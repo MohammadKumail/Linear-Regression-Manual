{
 "cells": [
  {
   "cell_type": "markdown",
   "metadata": {},
   "source": [
    "# MOHAMMAD KUMAIL\n",
    "## LINEAR REGRESSION"
   ]
  },
  {
   "cell_type": "code",
   "execution_count": 1,
   "metadata": {},
   "outputs": [],
   "source": [
    "import numpy as np\n",
    "import pandas as pd\n",
    "from matplotlib import pyplot as plt"
   ]
  },
  {
   "cell_type": "code",
   "execution_count": 2,
   "metadata": {},
   "outputs": [
    {
     "data": {
      "text/html": [
       "<div>\n",
       "<style scoped>\n",
       "    .dataframe tbody tr th:only-of-type {\n",
       "        vertical-align: middle;\n",
       "    }\n",
       "\n",
       "    .dataframe tbody tr th {\n",
       "        vertical-align: top;\n",
       "    }\n",
       "\n",
       "    .dataframe thead th {\n",
       "        text-align: right;\n",
       "    }\n",
       "</style>\n",
       "<table border=\"1\" class=\"dataframe\">\n",
       "  <thead>\n",
       "    <tr style=\"text-align: right;\">\n",
       "      <th></th>\n",
       "      <th>MID</th>\n",
       "      <th>FINAL</th>\n",
       "      <th>OVERALL</th>\n",
       "    </tr>\n",
       "  </thead>\n",
       "  <tbody>\n",
       "    <tr>\n",
       "      <th>0</th>\n",
       "      <td>15.0</td>\n",
       "      <td>28.5</td>\n",
       "      <td>66</td>\n",
       "    </tr>\n",
       "    <tr>\n",
       "      <th>1</th>\n",
       "      <td>7.0</td>\n",
       "      <td>23.0</td>\n",
       "      <td>50</td>\n",
       "    </tr>\n",
       "    <tr>\n",
       "      <th>2</th>\n",
       "      <td>13.5</td>\n",
       "      <td>37.5</td>\n",
       "      <td>73</td>\n",
       "    </tr>\n",
       "    <tr>\n",
       "      <th>3</th>\n",
       "      <td>14.0</td>\n",
       "      <td>27.0</td>\n",
       "      <td>62</td>\n",
       "    </tr>\n",
       "    <tr>\n",
       "      <th>4</th>\n",
       "      <td>16.0</td>\n",
       "      <td>25.0</td>\n",
       "      <td>60</td>\n",
       "    </tr>\n",
       "    <tr>\n",
       "      <th>5</th>\n",
       "      <td>9.5</td>\n",
       "      <td>20.5</td>\n",
       "      <td>53</td>\n",
       "    </tr>\n",
       "    <tr>\n",
       "      <th>6</th>\n",
       "      <td>11.0</td>\n",
       "      <td>21.0</td>\n",
       "      <td>52</td>\n",
       "    </tr>\n",
       "    <tr>\n",
       "      <th>7</th>\n",
       "      <td>10.5</td>\n",
       "      <td>20.0</td>\n",
       "      <td>52</td>\n",
       "    </tr>\n",
       "    <tr>\n",
       "      <th>8</th>\n",
       "      <td>18.5</td>\n",
       "      <td>45.5</td>\n",
       "      <td>89</td>\n",
       "    </tr>\n",
       "    <tr>\n",
       "      <th>9</th>\n",
       "      <td>14.0</td>\n",
       "      <td>27.5</td>\n",
       "      <td>62</td>\n",
       "    </tr>\n",
       "  </tbody>\n",
       "</table>\n",
       "</div>"
      ],
      "text/plain": [
       "    MID  FINAL  OVERALL\n",
       "0  15.0   28.5       66\n",
       "1   7.0   23.0       50\n",
       "2  13.5   37.5       73\n",
       "3  14.0   27.0       62\n",
       "4  16.0   25.0       60\n",
       "5   9.5   20.5       53\n",
       "6  11.0   21.0       52\n",
       "7  10.5   20.0       52\n",
       "8  18.5   45.5       89\n",
       "9  14.0   27.5       62"
      ]
     },
     "execution_count": 2,
     "metadata": {},
     "output_type": "execute_result"
    }
   ],
   "source": [
    "my_data = pd.read_excel('Student Marks LR.xlsx')\n",
    "my_frame = pd.DataFrame(my_data)\n",
    "\n",
    "my_frame.head(10)"
   ]
  },
  {
   "cell_type": "markdown",
   "metadata": {},
   "source": [
    "## Final and Overall Scatter..!!"
   ]
  },
  {
   "cell_type": "code",
   "execution_count": 8,
   "metadata": {},
   "outputs": [
    {
     "data": {
      "image/png": "[encoded data removed]",
      "text/plain": [
       "<Figure size 432x288 with 1 Axes>"
      ]
     },
     "metadata": {
      "needs_background": "light"
     },
     "output_type": "display_data"
    }
   ],
   "source": [
    "plt.scatter(my_frame['MID'], my_frame['FINAL'])\n",
    "plt.scatter(my_frame['MID'], my_frame['OVERALL'])\n",
    "\n",
    "plt.legend(['FINAL', 'OVERALL'])\n",
    "plt.show()"
   ]
  },
  {
   "cell_type": "markdown",
   "metadata": {},
   "source": [
    "## Mid and Overall Scatter..!!"
   ]
  },
  {
   "cell_type": "code",
   "execution_count": 9,
   "metadata": {},
   "outputs": [
    {
     "data": {
      "image/png": "[encoded data removed]",
      "text/plain": [
       "<Figure size 432x288 with 1 Axes>"
      ]
     },
     "metadata": {
      "needs_background": "light"
     },
     "output_type": "display_data"
    }
   ],
   "source": [
    "plt.scatter(my_frame['FINAL'], my_frame['MID'])\n",
    "plt.scatter(my_frame['FINAL'], my_frame['OVERALL'])\n",
    "\n",
    "plt.legend(['MID', 'OVERALL'])\n",
    "plt.show()"
   ]
  },
  {
   "cell_type": "markdown",
   "metadata": {},
   "source": [
    "## Mid and Final Scatter..!!"
   ]
  },
  {
   "cell_type": "code",
   "execution_count": 10,
   "metadata": {},
   "outputs": [
    {
     "data": {
      "image/png": "[encoded data removed]",
      "text/plain": [
       "<Figure size 432x288 with 1 Axes>"
      ]
     },
     "metadata": {
      "needs_background": "light"
     },
     "output_type": "display_data"
    }
   ],
   "source": [
    "plt.scatter(my_frame['OVERALL'], my_frame['MID'])\n",
    "plt.scatter(my_frame['OVERALL'], my_frame['FINAL'])\n",
    "\n",
    "plt.legend(['MID', 'FINAL'])\n",
    "plt.show()"
   ]
  },
  {
   "cell_type": "code",
   "execution_count": 16,
   "metadata": {},
   "outputs": [],
   "source": [
    "def LinearRegression(user_x, user_y):\n",
    "    import numpy as np\n",
    "    import pandas as pd\n",
    "    from matplotlib import pyplot as plt\n",
    "\n",
    "    # Convert user input in array using numpy..!!\n",
    "    user_x = np.array(user_x)\n",
    "    user_y = np.array(user_y)\n",
    "    \n",
    "    # Find mean of x..!!\n",
    "    x_mean = np.mean(user_x)\n",
    "    x_mean\n",
    "    \n",
    "    # Find mean of y..!!\n",
    "    y_mean = np.mean(user_y)\n",
    "    y_mean\n",
    "    \n",
    "    # Calculate SSxy..!!\n",
    "    x_x_mean = user_x - np.mean(x_mean)\n",
    "    x_sum = np.sum(x_x_mean)\n",
    "\n",
    "    y_y_mean = user_y - np.mean(y_mean)\n",
    "    y_sum = np.sum(y_y_mean)\n",
    "\n",
    "    SSxy = x_sum * y_sum\n",
    "\n",
    "    print(\"SSxy:\", SSxy)\n",
    "    \n",
    "    # Calculate SSxx..!!\n",
    "    SSxx = np.square(x_sum)\n",
    "    print(\"SSxx:\", SSxx)\n",
    "\n",
    "    # Calculate SSyy..!!\n",
    "    SSyy = np.square(y_sum)\n",
    "    print(\"SSyy:\", SSyy)\n",
    "    \n",
    "    # Calculate the value of b using SSxy / SSxx..!!\n",
    "    b = SSxy / SSxx\n",
    "    print(\"B Value Is:\",b)\n",
    "\n",
    "    # Calculate the value of a using mean of y, mean of x and b value..!!\n",
    "    a = y_mean - (b * x_mean)\n",
    "    print(\"A Value IS:\", a)\n",
    "    \n",
    "    # Perform prediction..!!\n",
    "    y_predict = []\n",
    "\n",
    "    for i in user_x:\n",
    "        y_predict.append(b * i + a)\n",
    "    \n",
    "    # Calculate the value of r..!!\n",
    "    r = SSxy / np.sqrt(SSyy * SSxx)\n",
    "    \n",
    "    print(\"r is:\", r)\n",
    "\n",
    "    # Calculate the value of r ** 2 or r square..!!\n",
    "    r_square = np.square(r)\n",
    "    print(\"r square:\", r_square)\n",
    "    \n",
    "    # Calculate the percentage of r ** 2 or r square..!!\n",
    "    perc_r_square = r_square * 100\n",
    "    print(\"Percentage r square:\", perc_r_square)\n",
    "    \n",
    "    # Calculate the test value of y using the y_predict..!!\n",
    "    test_y = user_y - y_predict\n",
    "    sq_test_y = np.square(test_y)\n",
    "    \n",
    "    # Calculate the sum of the square of y_test..!!\n",
    "    sum_sq_test_y = np.sum(sq_test_y)\n",
    "    \n",
    "    # Find the length of rows of x..!!\n",
    "    total_N = len(user_x)\n",
    "    \n",
    "    # Calculate the RME / RMS..!!\n",
    "    RME = np.sqrt( (sum_sq_test_y) / total_N)\n",
    "    print(\"RMS / RME:\", RME)\n",
    "    \n",
    "    # Draw the scatter plot on the x and y.\n",
    "    # Draw the plot line on the x and y_predict. This line is called \"Regression of Line\"..!!\n",
    "    plt.title('Student Marks Chart', fontsize = 24, color = 'black', fontweight = 'bold')\n",
    "    plt.scatter(user_x, user_y, color = 'darkviolet')\n",
    "    plt.xlabel('x-axis', fontsize = 20, color = 'blue', fontweight = 'bold')\n",
    "    plt.ylabel('y-axis', fontsize = 20, color = 'blue', fontweight = 'bold')\n",
    "    \n",
    "    plt.plot(user_x, y_predict, color = 'red', linewidth = 3)\n",
    "    plt.legend(['MID', 'OVERALL'])\n",
    "    plt.show()"
   ]
  },
  {
   "cell_type": "code",
   "execution_count": 17,
   "metadata": {},
   "outputs": [
    {
     "name": "stdout",
     "output_type": "stream",
     "text": [
      "SSxy: 4.8467614016778965e-26\n",
      "SSxx: 2.0194839173657902e-26\n",
      "SSyy: 1.1632227364026952e-25\n",
      "B Value Is: 2.4\n",
      "A Value IS: 34.91335740072202\n",
      "r is: 1.0\n",
      "r square: 1.0\n",
      "Percentage r square: 100.0\n",
      "RMS / RME: 7.792063114004258\n"
     ]
    },
    {
     "data": {
      "image/png": "[encoded data removed]",
      "text/plain": [
       "<Figure size 432x288 with 1 Axes>"
      ]
     },
     "metadata": {
      "needs_background": "light"
     },
     "output_type": "display_data"
    }
   ],
   "source": [
    "# Call the function..!!\n",
    "LinearRegression(my_frame['MID'], my_frame['OVERALL'])"
   ]
  },
  {
   "cell_type": "markdown",
   "metadata": {},
   "source": [
    "# Question / Answer"
   ]
  },
  {
   "cell_type": "code",
   "execution_count": 18,
   "metadata": {},
   "outputs": [],
   "source": [
    "# a. Does the mid marks depend on the final/overall or does the final/overall marks depend on the mid? \n",
    "# Do you expect a positive or a negative relationship between these variables?\n",
    "\n",
    "# Ans a): final / overall is an dependent variables.\n",
    "#         Mid is an independent variable and we predict the final / overall marks on the basis of Mid marks.\n",
    "#         There is strong relation between final / overall as we shown in scatter diagram, And week relation between \n",
    "#          Mid and final or Mid and overall.\n",
    "\n",
    "\n",
    "# d. Interpret the meaning of the values of a and b calculated in part c.\n",
    "\n",
    "# Ans d): a is the intercept (the value of y when x = 0).\n",
    "#         b is a slope which means that rate of change when the value of x is increased the slope\n",
    "#         rate is decreased.\n",
    "\n",
    "\n",
    "# f. Calculate r and r square and explain what they mean.\n",
    "\n",
    "# Ans f): r = coefficient of determination.\n",
    "#         r value shows the variance of data that number of percentage data is good and more to required.\n",
    "#         r ** 2 or r square convert the negative value into positive value.\n",
    "\n",
    "\n",
    "# g. Find the RMS / RME training error.\n",
    "\n",
    "# Ans g): RMS / RME shows that in regression we have an model error so, for example we have 5.6 error occurs\n",
    "#         when predict the value so it means that the error lie on +5.6 to -5.6."
   ]
  }
 ],
 "metadata": {
  "kernelspec": {
   "display_name": "Python 3",
   "language": "python",
   "name": "python3"
  },
  "language_info": {
   "codemirror_mode": {
    "name": "ipython",
    "version": 3
   },
   "file_extension": ".py",
   "mimetype": "text/x-python",
   "name": "python",
   "nbconvert_exporter": "python",
   "pygments_lexer": "ipython3",
   "version": "3.7.0"
  }
 },
 "nbformat": 4,
 "nbformat_minor": 2
}
